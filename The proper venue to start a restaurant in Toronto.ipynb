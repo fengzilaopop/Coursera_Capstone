{
 "cells": [
  {
   "cell_type": "markdown",
   "id": "aa67e574-69e7-4142-9954-1a9f32565c20",
   "metadata": {},
   "source": [
    "# The proper venue to start a restaurant in Toronto\n",
    "\n",
    "## Introduction\n",
    "\n",
    "We will explore a solution to find out the proper venues to start a restaurant in Toronto.\n",
    "\n",
    "## Business Problem\n",
    "\n",
    "If we want to start a restaurant, what we need to figure out is listed below:\n",
    "\n",
    "* There should be a lot of restaurants, it makes people think it is a good place to go when they are hungry.\n",
    "* There are many restaurants but there are lots of restaurants that is not be-liked by users which means there are enough people but not enough good restaurants."
   ]
  }
 ],
 "metadata": {
  "kernelspec": {
   "display_name": "Python",
   "language": "python",
   "name": "conda-env-python-py"
  },
  "language_info": {
   "codemirror_mode": {
    "name": "ipython",
    "version": 3
   },
   "file_extension": ".py",
   "mimetype": "text/x-python",
   "name": "python",
   "nbconvert_exporter": "python",
   "pygments_lexer": "ipython3",
   "version": "3.6.13"
  }
 },
 "nbformat": 4,
 "nbformat_minor": 5
}
